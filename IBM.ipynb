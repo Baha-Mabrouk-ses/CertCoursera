{
 "cells": [
  {
   "cell_type": "markdown",
   "id": "b80ecc91-1e89-4f99-9dc2-889ad1619f62",
   "metadata": {},
   "source": [
    "# Title"
   ]
  },
  {
   "cell_type": "markdown",
   "id": "a93d103b-efcd-41dc-9f5b-eb1af40bf7c5",
   "metadata": {},
   "source": [
    "## Introduction\n",
    "This is an introduction to my jupyter exploration peer-graded assignment"
   ]
  },
  {
   "cell_type": "markdown",
   "id": "a2dbf455-dd12-48d7-8e1d-b7c14b1ed4bb",
   "metadata": {},
   "source": [
    "Python\n",
    "R\n",
    "java\n",
    "scala\n",
    "julia\n",
    "matlab\n"
   ]
  },
  {
   "cell_type": "markdown",
   "id": "2d43ec69",
   "metadata": {},
   "source": [
    "Numpy, Pandas, matplotlib, sckitlearn"
   ]
  },
  {
   "cell_type": "markdown",
   "id": "4a2b2cc1",
   "metadata": {},
   "source": [
    "Jupyter notebook, Python, Anaconda, azur"
   ]
  },
  {
   "cell_type": "markdown",
   "id": "3c223f6a-34ab-43ec-8635-f62fdf50efd1",
   "metadata": {},
   "source": [
    "| Stretch/Untouched | ProbDistribution | Accuracy |\n",
    "| --- | --- | --- |\n",
    "| Stretched | Gaussian | .843 |"
   ]
  },
  {
   "cell_type": "markdown",
   "id": "c27b4cde-f143-49bd-b60d-366ec89309f8",
   "metadata": {},
   "source": [
    "***\n",
    "$\\mathbf{\\text{Gradient Tree Boosting Algorithm}}$<br>\n",
    "***\n",
    "1.&emsp;$$f_{0}(x) = \\textrm{arg min}_{\\gamma} \\sum \\limits _{i=1} ^{N} L(y_{i}, \\gamma)$$\n",
    "\n",
    "***"
   ]
  },
  {
   "cell_type": "code",
   "execution_count": 8,
   "id": "8ce9d703-6f6d-4de4-83f7-a2e57720b21c",
   "metadata": {
    "tags": []
   },
   "outputs": [
    {
     "data": {
      "text/plain": [
       "40"
      ]
     },
     "execution_count": 8,
     "metadata": {},
     "output_type": "execute_result"
    }
   ],
   "source": [
    "x=5\n",
    "y=7\n",
    "\n",
    "z=x*y+x\n",
    "z"
   ]
  },
  {
   "cell_type": "code",
   "execution_count": 7,
   "id": "05488337-a9be-40a7-8b9e-b92532a27c7d",
   "metadata": {
    "tags": []
   },
   "outputs": [
    {
     "data": {
      "text/plain": [
       "60.0"
      ]
     },
     "execution_count": 7,
     "metadata": {},
     "output_type": "execute_result"
    }
   ],
   "source": [
    "minutes=3600\n",
    "hours=minutes/60\n",
    "hours"
   ]
  },
  {
   "cell_type": "markdown",
   "id": "a8d1df0f-6163-4d0e-8f59-080215af5288",
   "metadata": {},
   "source": [
    "1. lose 5pounds\n",
    "2. get professional certificate\n",
    "3. play football\n",
    "4. graduate wiith honors"
   ]
  },
  {
   "cell_type": "markdown",
   "id": "ebbf6ce9-f5dc-4cf1-ac3e-e127acdb14c2",
   "metadata": {},
   "source": [
    "## BAHA Mabrouk"
   ]
  },
  {
   "cell_type": "code",
   "execution_count": 4,
   "id": "032e52b2",
   "metadata": {},
   "outputs": [],
   "source": [
    "import os\n",
    "os.chdir('/Users/user/Documents/Baha/Cert')"
   ]
  },
  {
   "cell_type": "code",
   "execution_count": 5,
   "id": "c49afae7",
   "metadata": {},
   "outputs": [
    {
     "data": {
      "text/plain": [
       "'C:\\\\Users\\\\user\\\\Documents\\\\Baha\\\\Cert'"
      ]
     },
     "execution_count": 5,
     "metadata": {},
     "output_type": "execute_result"
    }
   ],
   "source": [
    "pwd\n"
   ]
  },
  {
   "cell_type": "code",
   "execution_count": 24,
   "id": "7940dd64-82c2-4f84-9c98-3817c632f13a",
   "metadata": {},
   "outputs": [
    {
     "name": "stdout",
     "output_type": "stream",
     "text": [
      "Reinitialized existing Git repository in C:/Users/user/Documents/Baha/Cert/.git/\n"
     ]
    }
   ],
   "source": [
    "!git init"
   ]
  },
  {
   "cell_type": "code",
   "execution_count": 25,
   "id": "5327404b-fadc-4bfb-afab-13a1bd08c08c",
   "metadata": {
    "tags": []
   },
   "outputs": [],
   "source": [
    "!git add ."
   ]
  },
  {
   "cell_type": "code",
   "execution_count": 26,
   "id": "97f79b01-7361-47eb-9c86-892b5aa699a2",
   "metadata": {
    "tags": []
   },
   "outputs": [
    {
     "name": "stdout",
     "output_type": "stream",
     "text": [
      "On branch master\n",
      "nothing to commit, working tree clean\n"
     ]
    }
   ],
   "source": [
    "!git commit -m \"Initial commit\"\n"
   ]
  },
  {
   "cell_type": "code",
   "execution_count": 33,
   "id": "275e58aa-354d-4a33-8f14-ef8a2c93a58a",
   "metadata": {
    "tags": []
   },
   "outputs": [],
   "source": [
    "!git remote remove origin\n",
    "!git remote add origin git@github.com:Baha-Mabrouk-ses/CertCoursera.git\n"
   ]
  },
  {
   "cell_type": "code",
   "execution_count": 36,
   "id": "6f0398e5",
   "metadata": {},
   "outputs": [],
   "source": [
    "!git remote set-url origin git@github.com:Baha-Mabrouk-ses/CertCoursera.git\n"
   ]
  },
  {
   "cell_type": "code",
   "execution_count": 37,
   "id": "a6a86afd-19e7-47e8-8e75-012d6f97f509",
   "metadata": {
    "tags": []
   },
   "outputs": [
    {
     "name": "stderr",
     "output_type": "stream",
     "text": [
      "git@github.com: Permission denied (publickey).\n",
      "fatal: Could not read from remote repository.\n",
      "\n",
      "Please make sure you have the correct access rights\n",
      "and the repository exists.\n"
     ]
    }
   ],
   "source": [
    "!git push -u origin master\n"
   ]
  },
  {
   "cell_type": "code",
   "execution_count": 14,
   "id": "a83f1d17-8d7a-4f07-9544-ae695fee3acd",
   "metadata": {},
   "outputs": [
    {
     "name": "stdout",
     "output_type": "stream",
     "text": [
      "Baha-Mabrouk-ses\n"
     ]
    }
   ],
   "source": [
    "!git config --global user.name\n"
   ]
  },
  {
   "cell_type": "code",
   "execution_count": 15,
   "id": "2e9a43d3",
   "metadata": {},
   "outputs": [
    {
     "name": "stdout",
     "output_type": "stream",
     "text": [
      "baha.mabrouk@sesame.com.tn\n"
     ]
    }
   ],
   "source": []
  },
  {
   "cell_type": "code",
   "execution_count": null,
   "id": "2c10285f",
   "metadata": {},
   "outputs": [],
   "source": []
  }
 ],
 "metadata": {
  "kernelspec": {
   "display_name": "Python 3 (ipykernel)",
   "language": "python",
   "name": "python3"
  },
  "language_info": {
   "codemirror_mode": {
    "name": "ipython",
    "version": 3
   },
   "file_extension": ".py",
   "mimetype": "text/x-python",
   "name": "python",
   "nbconvert_exporter": "python",
   "pygments_lexer": "ipython3",
   "version": "3.11.3"
  }
 },
 "nbformat": 4,
 "nbformat_minor": 5
}
